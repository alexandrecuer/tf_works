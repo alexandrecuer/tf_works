{
 "cells": [
  {
   "cell_type": "markdown",
   "metadata": {},
   "source": [
    "# another way to discretize the problem"
   ]
  },
  {
   "cell_type": "markdown",
   "metadata": {},
   "source": [
    "\\begin{equation*}\n",
    "T_p(t) = \\begin{vmatrix}\n",
    "T_i(t) \\\\\n",
    "T_s(t) \\\\\n",
    "\\end{vmatrix}\n",
    "\\end{equation*}"
   ]
  },
  {
   "cell_type": "markdown",
   "metadata": {},
   "source": [
    "The solution of $\\frac{dT_p(t)}{dt} = A(p) T_p(t) + B(p) U(t)$\n",
    "\n",
    "can be expressed as :"
   ]
  },
  {
   "cell_type": "markdown",
   "metadata": {},
   "source": [
    "\\begin{equation*}\n",
    "T_p(t) = e^{A(p) t} T_0 +\\int_{0}^{t}e^{A(p)(t-s)} B(p) U(s)ds\n",
    "\\end{equation*}"
   ]
  },
  {
   "cell_type": "markdown",
   "metadata": {},
   "source": [
    "We can write :\n",
    "\n",
    "$T_p(t+\\delta t) = e^{A(p) \\delta t} e^{A(p) t} T_0 +\\int_{0}^{t}e^{A(p)(t + \\delta t -s)} B(p) U(s)ds + \\int_{t}^{t+\\delta t}e^{A(p)(t + \\delta t -s)} B(p) U(s)ds$\n",
    "\n",
    "which leads to :"
   ]
  },
  {
   "cell_type": "markdown",
   "metadata": {},
   "source": [
    "\\begin{equation*}\n",
    "T_p(t+\\delta t) = e^{A(p) \\delta t} T_p(t) + \\int_{t}^{t+\\delta t}e^{A(p)(t + \\delta t -s)} B(p) U(s)ds\n",
    "\\end{equation*}"
   ]
  },
  {
   "cell_type": "markdown",
   "metadata": {},
   "source": [
    "or :"
   ]
  },
  {
   "cell_type": "markdown",
   "metadata": {},
   "source": [
    "\\begin{equation*}\n",
    "T_p(t+\\delta t) = e^{A(p) \\delta t} T_p(t) + e^{A(p) \\delta t} \\int_{t}^{t+\\delta t}e^{A(p)(t - s)} B(p) U(s)ds\n",
    "\\end{equation*}"
   ]
  },
  {
   "cell_type": "markdown",
   "metadata": {},
   "source": [
    "With $T=s-t$, we have :"
   ]
  },
  {
   "cell_type": "markdown",
   "metadata": {},
   "source": [
    "\\begin{equation*}\n",
    "T_p(t+\\delta t) = e^{A(p) \\delta t} T_p(t) + e^{A(p) \\delta t} \\int_{0}^{\\delta t}e^{-A(p)T} B(p) U(T+t)dT\n",
    "\\end{equation*}"
   ]
  },
  {
   "cell_type": "markdown",
   "metadata": {},
   "source": [
    "Assuming $\\delta t$ to be very small, we can estimate that $U(T+t)$ to be constant and equal to $U(t)$\n",
    "\n",
    "The primitive of $exp^{-at}$ being $c - a^{-1}exp^{-at}$, we can write :"
   ]
  },
  {
   "cell_type": "markdown",
   "metadata": {},
   "source": [
    "\\begin{equation*}\n",
    "T_p(t+\\delta t) = e^{A(p) \\delta t} T_p(t) + e^{A(p) \\delta t} A(p)^{-1} ( - e^{-A(p) \\delta t} + I) B(p) U(t)\n",
    "\\end{equation*}"
   ]
  },
  {
   "cell_type": "markdown",
   "metadata": {},
   "source": [
    "or :"
   ]
  },
  {
   "cell_type": "markdown",
   "metadata": {},
   "source": [
    "\\begin{equation*}\n",
    "T_p(t+\\delta t) = e^{A(p) \\delta t} T_p(t) + A(p)^{-1} ( e^{A(p) \\delta t} - I) B(p) U(t)\n",
    "\\end{equation*}"
   ]
  }
 ],
 "metadata": {
  "kernelspec": {
   "display_name": "Python 3",
   "language": "python",
   "name": "python3"
  },
  "language_info": {
   "codemirror_mode": {
    "name": "ipython",
    "version": 3
   },
   "file_extension": ".py",
   "mimetype": "text/x-python",
   "name": "python",
   "nbconvert_exporter": "python",
   "pygments_lexer": "ipython3",
   "version": "3.6.9"
  },
  "latex_metadata": {
   "affiliation": "Dromotherm@Cerema",
   "author": "Alexandre CUER",
   "title": "indoor temperature prediction - using real datas to fit a RC analog model"
  }
 },
 "nbformat": 4,
 "nbformat_minor": 4
}
