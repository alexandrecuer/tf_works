{
 "cells": [
  {
   "cell_type": "markdown",
   "metadata": {},
   "source": [
    "# les 5 temps"
   ]
  },
  {
   "cell_type": "markdown",
   "metadata": {},
   "source": [
    "## temps solaire vrai\n",
    "le temps solaire vrai TSV est basé sur le déplacement apparent du soleil au cours de la journée. Il est midi solaire à l'instant où le soleil atteint son point de culmination en un endroit donné. A cet instant, l'angle horaire du soleil $w$ est égal à 0"
   ]
  },
  {
   "cell_type": "markdown",
   "metadata": {},
   "source": [
    "\\begin{equation*}\n",
    "w (ou AH) = 15 ( TSV -12 )\n",
    "\\end{equation*}"
   ]
  },
  {
   "cell_type": "markdown",
   "metadata": {},
   "source": [
    "A chaque heure qui s'écoule correspond une augmentation de 15° de l'angle horaire"
   ]
  },
  {
   "cell_type": "markdown",
   "metadata": {},
   "source": [
    "## temps solaire moyen\n",
    "le temps solaire moyen, appelé aussi temps solaire local, est fondé sur un soleil qui se déplacerait autour de l'équateur à vitesse constante tout au long de l'année. cette vitesse moyenne est d'un tour en 24 heures.\n",
    "\n",
    "La différence entre le temps solaire moyen et le temps solaire vrai est appelé équation du temps.\n"
   ]
  },
  {
   "cell_type": "markdown",
   "metadata": {},
   "source": [
    "\\begin{equation*}\n",
    "TSV - TSM = E\n",
    "\\end{equation*}"
   ]
  },
  {
   "cell_type": "markdown",
   "metadata": {},
   "source": [
    "Sachant que :"
   ]
  },
  {
   "cell_type": "markdown",
   "metadata": {},
   "source": [
    "\\begin{equation*}\n",
    "E = 299.2 ( 0.000075 + 0.001868 cos(B) - 0.032077 sin(B) - 0.014615 cos(2B) - 0.04089 sin(2B))\n",
    "\\end{equation*}"
   ]
  },
  {
   "cell_type": "markdown",
   "metadata": {},
   "source": [
    "Avec $ B = \\frac{(n-1)360}{365}$ où n représente le jour de l'année (1er janvier = jour 1)"
   ]
  },
  {
   "cell_type": "markdown",
   "metadata": {},
   "source": [
    "L'expérience montre que les passages du soleil dans le plan méridien d'un lieu donné ne se succèdent pas avec 24 heures d'intervale et le midi vrai peut atteindre un avance de 16 minutes ou un retard de 14 minutes selon l'époque de l'année. Les 2 facteurs d'influence à l'origine de cette variation sont :\n",
    "- l'ellipticité de la trajectoire de la terre autour du soleil\n",
    "- l'obliquité de son axe de rotation par rapport à son plan orbital autour du soleil"
   ]
  },
  {
   "cell_type": "markdown",
   "metadata": {},
   "source": [
    "## UTC - Universal Time Coordinated ou temps universel coordonné\n",
    "\n",
    "On peut considérer que le temps UTC correspond au temps moyen de Greenwich.\n",
    "\n",
    "L'heure UTC est dérivée du temps atomique international (TAI) dont elle diffère seulement par un nombre entier de secondes.\n",
    "\n",
    "Pour un point d'observation de longitude $\\lambda$, on peut donc écrire que le temps solaire moyen vérifie l'équation suivante :"
   ]
  },
  {
   "cell_type": "markdown",
   "metadata": {},
   "source": [
    "\\begin{equation*}\n",
    "TSM = UTC + \\frac{\\lambda}{15}\n",
    "\\end{equation*}"
   ]
  },
  {
   "cell_type": "markdown",
   "metadata": {},
   "source": [
    "Au final, on a donc :"
   ]
  },
  {
   "cell_type": "markdown",
   "metadata": {},
   "source": [
    "\\begin{equation*}\n",
    "w = 15 ( TSM + E -12 ) = 15 ( UTC + \\frac{\\lambda}{15} + E - 12 )\n",
    "\\end{equation*}"
   ]
  },
  {
   "cell_type": "markdown",
   "metadata": {},
   "source": [
    "Ou encore :"
   ]
  },
  {
   "cell_type": "markdown",
   "metadata": {},
   "source": [
    "\\begin{equation*}\n",
    "w = 15 ( UTC + E -12 ) + \\lambda \n",
    "\\end{equation*}"
   ]
  },
  {
   "cell_type": "markdown",
   "metadata": {},
   "source": [
    "## heure légale\n",
    "L'ensemble de la terre a été découpé en 24 fuseaux horaires correspondant aux 24 heures de la rotation de la terre. Chaque fuseau horaire comprend donc $\\frac{360}{24}$ ou 15° de longitude dans laquelle l'heure légale ou de référence sera la même.\n",
    "\n",
    "En un point d'observation donné, l'heure légale correspond à l'heure du fuseau horaire auquel appartient le point.\n",
    "Les fuseaux horaires ont tendance à suivre les frontières des pays et généralement différent du temps UTC d'un nombre entier d'heures.\n",
    "\n",
    "![fuseaux](images/fuseaux.gif)\n",
    "\n",
    "## heure d'été\n",
    "L'heure d'été ou DST (Day Saving Time) est le système consistant à ajouter une heure à l'heure légale (celle du fuseau horaire de référence) du point d'observation pour une période allant du début du printemps au milieu de l'hiver"
   ]
  },
  {
   "cell_type": "markdown",
   "metadata": {},
   "source": [
    "# gestion du temps en python\n",
    "\n",
    "Les calculs liés au temps sont relativement simples mais la manipulation du temps dans un langage informatique quel qu'il soit est loin d'etre anodine. \n",
    "\n",
    "Python dispose de plusieurs bibliothèques dédiées au temps et il est souvent complexe de s'y retrouver, sauf à lire l'intégralité de la documentation et de faire des essais pas à pas. \n",
    "\n",
    "Lorsqu'on travaille avec des timeseries chronologiques, il est essentiel de maîtriser la gestion du temps en machine et notamment les timezone....il existe une bibliothèque nommé pytz qui permet d'importer dans Python la base de données Olson tz mais içi on va utiliser la base de données dateutil"
   ]
  },
  {
   "cell_type": "code",
   "execution_count": 40,
   "metadata": {},
   "outputs": [],
   "source": [
    "from datetime import datetime\n",
    "import time\n",
    "import calendar\n",
    "from dateutil import tz"
   ]
  },
  {
   "cell_type": "markdown",
   "metadata": {},
   "source": [
    "## time.time"
   ]
  },
  {
   "cell_type": "markdown",
   "metadata": {},
   "source": [
    "La bibliothèque time permet de trouver facilement l'unixtimestamp correspondant à l'instant présent. L'unixtimestamp (uts) est le nombre de secondes écoulées depuis le 01/01/1970 à 00:00:00 UTC\n",
    "\n",
    "On peut le calculer avec la bibliothèque datetime mais ce n'est pas la solution de préférence et même une source d'erreurs. On trouve quelques instructions ci-dessous utilisant datetime et réalisant des conversions en unixtimestamp.\n",
    "\n",
    "Cette utilisation de datetime permet d'introduire la notion d'objet naif (c'est-à-dire sans timezone) et d'objet aware (complétement déterminé et indiscutable, avec timezone).\n",
    "\n",
    "Bien entendu, seules les deux dernières instructions utilisant datetime permet de retrouver l'unixtimestamp de l'instant présent, en passant par la fonction now() qui donne la date/heure locale, d'après les indications de fuseau horaire propre à l'ordinateur sur lequel les instructions sont lancées"
   ]
  },
  {
   "cell_type": "code",
   "execution_count": 90,
   "metadata": {},
   "outputs": [
    {
     "name": "stdout",
     "output_type": "stream",
     "text": [
      "1586786185\n",
      "objet naif 2020-04-13 13:56:25.967871 - uts=1586778985\n",
      "objet aware 2020-04-13 13:56:25.967965+00:00 - uts=1586782585\n",
      "objet naif 2020-04-13 15:56:25.968030 - uts=1586786185\n",
      "objet aware 2020-04-13 15:56:25.968102+02:00 - uts=1586786185\n"
     ]
    }
   ],
   "source": [
    "# actual unixtimestamp using the time module\n",
    "print(int(time.time()))\n",
    "\n",
    "# CET = Central European Time\n",
    "# CEST = Central European Summer Time\n",
    "# on peut aussi utiliser 'Europe/Paris'\n",
    "\n",
    "\n",
    "naive=datetime.utcnow()\n",
    "UTC=tz.gettz('UTC')\n",
    "aware=datetime.now(UTC)\n",
    "\n",
    "localnaive=datetime.now()\n",
    "#CET=tz.gettz('CET')\n",
    "CET=tz.gettz('Europe/Paris')\n",
    "localaware=datetime.now(CET)\n",
    "\n",
    "print(\"objet naif {} - uts={}\".format(naive,naive.strftime(\"%s\")))\n",
    "print(\"objet aware {} - uts={}\".format(aware,aware.strftime(\"%s\")))\n",
    "print(\"objet naif {} - uts={}\".format(localnaive, localnaive.strftime(\"%s\")))\n",
    "print(\"objet aware {} - uts={}\".format(localaware, localaware.strftime(\"%s\")))"
   ]
  },
  {
   "cell_type": "markdown",
   "metadata": {},
   "source": [
    "A noter que l'instruction `%s` de strftime permet de calculer l'unixtimestamp\n",
    "```\n",
    "%s     The number of seconds since the Epoch, 1970-01-01 00:00:00+0000 (UTC)\n",
    "```\n",
    "A ne pas confondre avec `%S` qui retournera le nombre de secondes écoulées depuis la dernière minute."
   ]
  },
  {
   "cell_type": "markdown",
   "metadata": {},
   "source": [
    "## time.gmtime"
   ]
  },
  {
   "cell_type": "markdown",
   "metadata": {},
   "source": [
    "La fonction gmtime convertit un unixtimestamp en un tuple de type struct_time au format UTC (avec DST=0)"
   ]
  },
  {
   "cell_type": "code",
   "execution_count": 57,
   "metadata": {},
   "outputs": [
    {
     "name": "stdout",
     "output_type": "stream",
     "text": [
      "time.struct_time(tm_year=2018, tm_mon=1, tm_mday=1, tm_hour=0, tm_min=0, tm_sec=0, tm_wday=0, tm_yday=1, tm_isdst=0)\n"
     ]
    }
   ],
   "source": [
    "uts=1514764800\n",
    "tuple=time.gmtime(uts)\n",
    "print(tuple)"
   ]
  },
  {
   "cell_type": "markdown",
   "metadata": {},
   "source": [
    "L'inverse de cette fonction gmtime est la fonction timegm de la bibliothèque calendar"
   ]
  },
  {
   "cell_type": "code",
   "execution_count": 58,
   "metadata": {},
   "outputs": [
    {
     "name": "stdout",
     "output_type": "stream",
     "text": [
      "1514764800\n"
     ]
    }
   ],
   "source": [
    "print(calendar.timegm(tuple))"
   ]
  },
  {
   "cell_type": "markdown",
   "metadata": {},
   "source": [
    "On peut arriver au même résultat en utilisant la fonction fromtimestamp et timetuple de la bibliothèque datetime. La fonction show permet de décoder l'unixtimestamp dans n'importe quelle timezone. \n",
    "\n",
    "A noter une illustration d'utilisation de la propriété tzinfo de l'objet _time, de type datetime"
   ]
  },
  {
   "cell_type": "code",
   "execution_count": 101,
   "metadata": {
    "scrolled": true
   },
   "outputs": [
    {
     "name": "stdout",
     "output_type": "stream",
     "text": [
      "time.struct_time(tm_year=2018, tm_mon=12, tm_mday=17, tm_hour=8, tm_min=0, tm_sec=0, tm_wday=0, tm_yday=351, tm_isdst=0)\n",
      "2018-12-17 08:00:00\n",
      "tzfile('/usr/share/zoneinfo/Europe/Paris')\n",
      "\r\n",
      "\n",
      "time.struct_time(tm_year=2018, tm_mon=12, tm_mday=17, tm_hour=7, tm_min=0, tm_sec=0, tm_wday=0, tm_yday=351, tm_isdst=0)\n",
      "2018-12-17 07:00:00\n",
      "tzfile('/usr/share/zoneinfo/UTC')\n"
     ]
    }
   ],
   "source": [
    "def show(uts,tz):\n",
    "    _time=datetime.fromtimestamp(uts,tz)\n",
    "    _tuple=_time.timetuple()\n",
    "    print(_tuple)\n",
    "    print(_time.strftime('%Y-%m-%d %H:%M:%S'))\n",
    "    print(_time.tzinfo)\n",
    "    \n",
    "show(uts,CET)\n",
    "print('\\r\\n')\n",
    "show(uts,UTC)"
   ]
  },
  {
   "cell_type": "markdown",
   "metadata": {},
   "source": [
    "## datetime.strptime et datetime.timestamp"
   ]
  },
  {
   "cell_type": "markdown",
   "metadata": {},
   "source": [
    "Lorsqu'on travaille avec une chaine de caractère et qu'on veut calculer l'unixtimestamp correspondant, on commence par utiliser la fonction strptime de la bibliothèque datetime pour convertir la chaine en objet datetime\n",
    "\n",
    "Il est alors très facile de retrouver le timestamp à l'aide de la fonction timestamp de datetime\n",
    "\n",
    "Nota : Içi le timezone est bien spécifié dans la chaine (+0100), mais il peut-être parfois utile de savoir spécifier le timezone avant de convertir en tuple ou d'utiliser timestamp"
   ]
  },
  {
   "cell_type": "code",
   "execution_count": 92,
   "metadata": {},
   "outputs": [
    {
     "name": "stdout",
     "output_type": "stream",
     "text": [
      "2018-01-01 01:00:00+01:00\n",
      "1514764800.0\n",
      "UTC+01:00\n",
      "time.struct_time(tm_year=2018, tm_mon=1, tm_mday=1, tm_hour=1, tm_min=0, tm_sec=0, tm_wday=0, tm_yday=1, tm_isdst=-1)\n",
      "\r\n",
      "\n",
      "time.struct_time(tm_year=2018, tm_mon=1, tm_mday=1, tm_hour=1, tm_min=0, tm_sec=0, tm_wday=0, tm_yday=1, tm_isdst=0)\n",
      "tzfile('/usr/share/zoneinfo/Europe/Paris')\n",
      "1514764800.0\n"
     ]
    }
   ],
   "source": [
    "d=\"2018-01-01T01:00:00+0100\"\n",
    "_time=datetime.strptime(d, '%Y-%m-%dT%H:%M:%S%z')\n",
    "print(_time)\n",
    "print(datetime.timestamp(_time))\n",
    "print(_time.tzinfo)\n",
    "print(_time.timetuple())\n",
    "print('\\r\\n')\n",
    "_time=_time.replace(tzinfo=CET)\n",
    "print(_time.timetuple())\n",
    "print(_time.tzinfo)\n",
    "print(datetime.timestamp(_time))"
   ]
  },
  {
   "cell_type": "markdown",
   "metadata": {},
   "source": [
    "## Trouver l'unixtimestamp indiquant le début de la journée UTC correspondant à un unixtimestamp donné "
   ]
  },
  {
   "cell_type": "code",
   "execution_count": 105,
   "metadata": {},
   "outputs": [
    {
     "name": "stdout",
     "output_type": "stream",
     "text": [
      "UTC time : \n",
      "time.struct_time(tm_year=2018, tm_mon=12, tm_mday=17, tm_hour=7, tm_min=0, tm_sec=0, tm_wday=0, tm_yday=351, tm_isdst=0)\n",
      "CET time\n",
      "time.struct_time(tm_year=2018, tm_mon=12, tm_mday=17, tm_hour=8, tm_min=0, tm_sec=0, tm_wday=0, tm_yday=351, tm_isdst=0)\n",
      "2018-12-17 08:00:00\n",
      "tzfile('/usr/share/zoneinfo/Europe/Paris')\n",
      "None\n",
      "\r\n",
      "\n",
      "the UTC day UTC including unixtimestamp 1545030000 started at unixtimestamp \n",
      "1545004800\n",
      "time.struct_time(tm_year=2018, tm_mon=12, tm_mday=17, tm_hour=0, tm_min=0, tm_sec=0, tm_wday=0, tm_yday=351, tm_isdst=0)\n"
     ]
    }
   ],
   "source": [
    "uts=1545030000\n",
    "tt=time.gmtime(uts)\n",
    "print(\"UTC time : \")\n",
    "print(tt)\n",
    "print(\"CET time\")\n",
    "print(show(uts,CET))\n",
    "print('\\r\\n')\n",
    "'''\n",
    "the structure of a time tuple is always\n",
    "tm_year, tm_mon, tm_mday, tm_hour, tm_min, tm_sec, tm_wday, tm_yday, tm_isdst\n",
    "'''\n",
    "sec_elapsed_since_UTCday_start=tt.tm_hour*3600+tt.tm_min*60+tt.tm_sec\n",
    "_UTCstart=uts-sec_elapsed_since_UTCday_start\n",
    "print(\"the UTC day UTC including unixtimestamp {} started at unixtimestamp \\n{}\".format(uts,_UTCstart))\n",
    "print(time.gmtime(_UTCstart))"
   ]
  },
  {
   "cell_type": "code",
   "execution_count": null,
   "metadata": {},
   "outputs": [],
   "source": []
  }
 ],
 "metadata": {
  "kernelspec": {
   "display_name": "Python 3",
   "language": "python",
   "name": "python3"
  },
  "language_info": {
   "codemirror_mode": {
    "name": "ipython",
    "version": 3
   },
   "file_extension": ".py",
   "mimetype": "text/x-python",
   "name": "python",
   "nbconvert_exporter": "python",
   "pygments_lexer": "ipython3",
   "version": "3.7.7"
  }
 },
 "nbformat": 4,
 "nbformat_minor": 4
}
