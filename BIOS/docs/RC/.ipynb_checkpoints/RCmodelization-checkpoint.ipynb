{
 "cells": [
  {
   "cell_type": "markdown",
   "metadata": {},
   "source": [
    "# Indoor temperature forecasting with an RC model"
   ]
  },
  {
   "cell_type": "markdown",
   "metadata": {},
   "source": [
    "![R3C2 modelling of a (homogeneous) thermal zone of a building](R3C2_modelb.png)"
   ]
  },
  {
   "cell_type": "markdown",
   "metadata": {},
   "source": [
    "$c_{res}$ : thermal capacity of the envelope\n",
    "\n",
    "$c_s$ : thermal capacity of the indoor (air volume) \n",
    "\n",
    "$c_{res}$ and $c_s$ are expressed in $\\frac{J}{K}$\n",
    "\n",
    "$r_i$ : indoor thermal resistance of walls\n",
    "\n",
    "$r_0$ : outdoor thermal resistance of walls \n",
    "\n",
    "$r_f$ : leakage resistance\n",
    "\n",
    "$r_i$, $r_0$ and $r_f$ are expressed in $\\frac{K}{W}$"
   ]
  },
  {
   "cell_type": "markdown",
   "metadata": {},
   "source": [
    "All temperatures $T_{i}$, $T_{ext}$ and $T_s$ being expressed in °C or K\n",
    "\n",
    "All powers $Q_{res}$ and $Q_s$ are expressed in W"
   ]
  },
  {
   "cell_type": "markdown",
   "metadata": {},
   "source": [
    "With $T_i(t)$ the simulated indoor temperature and $T_s(t)$ the simulated envelope temperature, we define : "
   ]
  },
  {
   "cell_type": "markdown",
   "metadata": {},
   "source": [
    "\\begin{equation*}\n",
    "T_p(t) = \\begin{vmatrix}\n",
    "T_i(t) \\\\\n",
    "T_s(t) \\\\\n",
    "\\end{vmatrix}\n",
    "\\end{equation*}"
   ]
  },
  {
   "cell_type": "markdown",
   "metadata": {},
   "source": [
    "The equation to solve is : "
   ]
  },
  {
   "cell_type": "markdown",
   "metadata": {},
   "source": [
    "\\begin{equation*}\n",
    "\\frac{dT_p(t)}{dt} =  A T_p(t) + G(t,p)\n",
    "\\end{equation*}"
   ]
  },
  {
   "cell_type": "markdown",
   "metadata": {},
   "source": [
    "Let's introduce the parameters vector :"
   ]
  },
  {
   "cell_type": "markdown",
   "metadata": {},
   "source": [
    "\\begin{equation*}\n",
    "p = [c_{res}, c_s, r_i, r_0, r_f]\n",
    "\\end{equation*}"
   ]
  },
  {
   "cell_type": "markdown",
   "metadata": {},
   "source": [
    "\\begin{equation*}\n",
    "A =  \\begin{vmatrix}\n",
    "-\\frac{1}{c_{res}} (\\frac{1}{r_i}+\\frac{1}{r_f}) & \\frac{1}{c_{res} r_i} \\\\\n",
    "\\frac{1}{c_s r_i} &  - \\frac{1}{c_s} (\\frac{1}{r_i}+\\frac{1}{r_0}) \\\\\n",
    "\\end{vmatrix}\n",
    "= \\begin{vmatrix}\n",
    "-\\frac{1}{p[0]} (\\frac{1}{p[2]}+\\frac{1}{p[4]}) & \\frac{1}{p[0] p[2]} \\\\\n",
    "\\frac{1}{p[1] p[2]} &  - \\frac{1}{p[1]} (\\frac{1}{p[2]}+\\frac{1}{p[3]}) \\\\\n",
    "\\end{vmatrix}\n",
    "\\end{equation*}\n"
   ]
  },
  {
   "cell_type": "markdown",
   "metadata": {},
   "source": [
    "\\begin{equation*}\n",
    "\\frac{dA}{dc_{res}} =  \\begin{vmatrix}\n",
    "\\frac{1}{c_{res}^2} (\\frac{1}{r_i}+\\frac{1}{r_f}) & - \\frac{1}{c_{res}^2 r_i} \\\\\n",
    "0 &  0 \\\\\n",
    "\\end{vmatrix}\n",
    "= \\begin{vmatrix}\n",
    "\\frac{1}{p[0]^2} (\\frac{1}{p[2]}+\\frac{1}{p[4]}) & - \\frac{1}{p[0]^2 p[2]} \\\\\n",
    "0 &  0 \\\\\n",
    "\\end{vmatrix}\n",
    "\\end{equation*}"
   ]
  },
  {
   "cell_type": "markdown",
   "metadata": {},
   "source": [
    "\\begin{equation*}\n",
    "\\frac{dA}{dc_s} =  \\begin{vmatrix}\n",
    "0 & 0 \\\\\n",
    "- \\frac{1}{c_s^2 r_i} &  \\frac{1}{c_s^2} (\\frac{1}{r_i}+\\frac{1}{r_0}) \\\\\n",
    "\\end{vmatrix}\n",
    "\\end{equation*}"
   ]
  },
  {
   "cell_type": "markdown",
   "metadata": {},
   "source": [
    "\\begin{equation*}\n",
    "\\frac{dA}{dr_i} =  \\begin{vmatrix}\n",
    "\\frac{1}{c_{res} r_i^2} & - \\frac{1}{c_{res} r_i^2} \\\\\n",
    "- \\frac{1}{c_s r_i^2} &  \\frac{1}{c_s r_i^2} \\\\\n",
    "\\end{vmatrix}\n",
    "= \\begin{vmatrix}\n",
    "\\frac{1}{p[0] p[2]^2} & - \\frac{1}{p[0] p[2]^2} \\\\\n",
    "- \\frac{1}{p[1] p[2]^2} &  \\frac{1}{p[1] p[2]^2} \\\\\n",
    "\\end{vmatrix}\n",
    "\\end{equation*}"
   ]
  },
  {
   "cell_type": "markdown",
   "metadata": {},
   "source": [
    "\\begin{equation*}\n",
    "\\frac{dA}{dr_0} =  \\begin{vmatrix}\n",
    "0 & 0 \\\\\n",
    "0 &  \\frac{1}{c_s r_0^2}) \\\\\n",
    "\\end{vmatrix}\n",
    "= \\begin{vmatrix}\n",
    "0 & 0 \\\\\n",
    "0 &  \\frac{1}{p[1] p[3]^2} \\\\\n",
    "\\end{vmatrix}\n",
    "\\end{equation*}"
   ]
  },
  {
   "cell_type": "markdown",
   "metadata": {},
   "source": [
    "\\begin{equation*}\n",
    "\\frac{dA}{dr_f} =  \\begin{vmatrix}\n",
    "\\frac{1}{c_{res} r_f^2} & 0 \\\\\n",
    "0 &  0 \\\\\n",
    "\\end{vmatrix}\n",
    "= \\begin{vmatrix}\n",
    "\\frac{1}{p[0] p[4]^2} & 0 \\\\\n",
    "0 &  0 \\\\\n",
    "\\end{vmatrix}\n",
    "\\end{equation*}"
   ]
  },
  {
   "cell_type": "markdown",
   "metadata": {},
   "source": [
    "Let's introduce the ground truths tensor :\n",
    "\n",
    "$\\theta = [ T_{ext}, T_{int}, Q_{res}, Q_{s}]$"
   ]
  },
  {
   "cell_type": "markdown",
   "metadata": {},
   "source": [
    "\\begin{equation*}\n",
    "G =  \\begin{vmatrix}\n",
    "\\frac{Q_{res}}{c_{res}} + \\frac{T_{ext}}{c_{res} r_f} \\\\\n",
    "\\frac{Q_s}{c_s} + \\frac{T_{ext}}{c_s r_0} \\\\\n",
    "\\end{vmatrix}\n",
    "=  \\begin{vmatrix}\n",
    "\\frac{\\theta^i[2]}{p[0]} + \\frac{\\theta^i[0]}{p[0] p[4]} \\\\\n",
    "\\frac{\\theta^i[3]}{p[1]} + \\frac{\\theta^i[0]}{p[1] p[3]} \\\\\n",
    "\\end{vmatrix}\n",
    "\\end{equation*}"
   ]
  },
  {
   "cell_type": "markdown",
   "metadata": {},
   "source": [
    "\\begin{equation*}\n",
    "\\frac{dG}{dc_{res}} =  \\begin{vmatrix}\n",
    "- \\frac{1}{c_{res}^2} (Q_{res} + \\frac{T_{ext}}{r_f})  \\\\\n",
    "0 \\\\\n",
    "\\end{vmatrix}\n",
    "=  \\begin{vmatrix}\n",
    "- \\frac{1}{p[0]^2} (\\theta^i[2] + \\frac{\\theta^i[0]}{p[4]})  \\\\\n",
    "0 \\\\\n",
    "\\end{vmatrix}\n",
    "\\end{equation*}"
   ]
  },
  {
   "cell_type": "markdown",
   "metadata": {},
   "source": [
    "\\begin{equation*}\n",
    "\\frac{dG}{dc_s} =  \\begin{vmatrix}\n",
    "0 \\\\\n",
    "- \\frac{1}{c_s^2} (Q_s + \\frac{T_{ext}}{r_0}) \\\\\n",
    "\\end{vmatrix}\n",
    "=  \\begin{vmatrix}\n",
    "0 \\\\\n",
    "- \\frac{1}{p[1]^2} (\\theta^i[3] + \\frac{\\theta^i[0]}{p[3]}) \\\\\n",
    "\\end{vmatrix}\n",
    "\\end{equation*}"
   ]
  },
  {
   "cell_type": "markdown",
   "metadata": {},
   "source": [
    "\\begin{equation*}\n",
    "\\frac{dG}{dr_i} =  \\begin{vmatrix}\n",
    "0 \\\\\n",
    "0 \\\\\n",
    "\\end{vmatrix}\n",
    "\\end{equation*}"
   ]
  },
  {
   "cell_type": "markdown",
   "metadata": {},
   "source": [
    "\\begin{equation*}\n",
    "\\frac{dG}{dr_0} =  \\begin{vmatrix}\n",
    "0 \\\\\n",
    "- \\frac{T_{ext}}{c_s r_0^2} \\\\\n",
    "\\end{vmatrix}\n",
    "=  \\begin{vmatrix}\n",
    "0 \\\\\n",
    "- \\frac{\\theta^i[0]}{p[1] p[3]^2} \\\\\n",
    "\\end{vmatrix}\n",
    "\\end{equation*}"
   ]
  },
  {
   "cell_type": "markdown",
   "metadata": {},
   "source": [
    "\\begin{equation*}\n",
    "\\frac{dG}{dr_f} =  \\begin{vmatrix}\n",
    "- \\frac{T_{ext}}{c_{res} r_f^2} \\\\\n",
    "0 \\\\\n",
    "\\end{vmatrix}\n",
    "=  \\begin{vmatrix}\n",
    "- \\frac{\\theta^i[0]}{p[0] p[4]^2} \\\\\n",
    "0 \\\\\n",
    "\\end{vmatrix}\n",
    "\\end{equation*}"
   ]
  },
  {
   "cell_type": "markdown",
   "metadata": {},
   "source": [
    "usually, specialists of RC models introduce a B matrix :\n",
    "    \n",
    "$B=\\begin{vmatrix}\n",
    "\\frac{1}{c_{res} r_f} & \\frac{1}{c_{res}} & 0 \\\\\n",
    "\\frac{1}{c_s r_0} & 0 & \\frac{1}{c_s} \\\\\n",
    "\\end{vmatrix}$\n",
    "\n",
    "and a U vector :\n",
    "\n",
    "$U=\\begin{vmatrix}\n",
    "T_{ext} \\\\\n",
    "Q_{res} \\\\\n",
    "Q_{s} \\\\\n",
    "\\end{vmatrix}$\n",
    "\n",
    "the equation to solve becomes :\n",
    "\n",
    "$\\frac{dT_p(t)}{dt} = A(p) T_p(t) + B(p) U(t)$\n",
    "\n",
    "we have :\n",
    "\n",
    "$\\frac{dB}{dc_{res}} = \\begin{vmatrix}\n",
    "\\frac{-1}{c_{res}^2 r_f} & \\frac{-1}{c_{res}^2} & 0 \\\\\n",
    "0 & 0 & 0 \\\\\n",
    "\\end{vmatrix}$\n",
    "\n",
    "$\\frac{dB}{dc_s} = \\begin{vmatrix}\n",
    "0 & 0 & 0 \\\\\n",
    "\\frac{-1}{c_s^2 r_0} & 0 & \\frac{-1}{c_s^2} \\\\\n",
    "\\end{vmatrix}$\n",
    "\n",
    "$\\frac{dB}{dr_i} = \\begin{vmatrix}\n",
    "0 & 0 & 0 \\\\\n",
    "0 & 0 & 0 \\\\\n",
    "\\end{vmatrix}$\n",
    "\n",
    "$\\frac{dB}{dr_0} = \\begin{vmatrix}\n",
    "0 & 0 & 0 \\\\\n",
    "\\frac{-1}{c_s r_0^2} & 0 & 0 \\\\\n",
    "\\end{vmatrix}$\n",
    "\n",
    "$\\frac{dB}{dr_f} = \\begin{vmatrix}\n",
    "\\frac{-1}{c_{res} r_f^2} & 0 & 0 \\\\\n",
    "0 & 0 & 0 \\\\\n",
    "\\end{vmatrix}$\n"
   ]
  },
  {
   "cell_type": "markdown",
   "metadata": {},
   "source": [
    "## Discretisation according to an implicit Euler scheme"
   ]
  },
  {
   "cell_type": "markdown",
   "metadata": {},
   "source": [
    "Noting i the discretisation index, we have $t^{i+1} - t^i = \\delta t$\n",
    "\n",
    "We can write :\n",
    "\n",
    "$\\frac{T_p^{i+1} - T_p^{i}}{\\delta t} = A(p) T_p^{i+1} + B(p) U^i$\n",
    "\n",
    "$(I-\\delta t A(p)) T_p^{i+1} = T_p^i + \\delta t B(p) U^i$\n",
    "\n",
    "**The first discretisation scheme to code is :**"
   ]
  },
  {
   "cell_type": "markdown",
   "metadata": {},
   "source": [
    "\\begin{equation*}\n",
    "T_p^{i+1} = (I-\\delta t A(p))^{-1} [ T_p^i + \\delta t B(p) U^i ]\n",
    "\\end{equation*}"
   ]
  },
  {
   "cell_type": "markdown",
   "metadata": {},
   "source": [
    "## Discretisation according to a Krank Nicholson scheme"
   ]
  },
  {
   "cell_type": "markdown",
   "metadata": {},
   "source": [
    "$\\frac{T_p^{i+1} - T_p^{i}}{\\delta t} = A(p) \\frac{T_p^{i+1} + T_p^{i}}{2} + B(p) \\frac{U^{i+1} + U^i}{2}$\n",
    "\n",
    "**This scheme is more precise and would lead to a different algorithm :**"
   ]
  },
  {
   "cell_type": "markdown",
   "metadata": {},
   "source": [
    "\\begin{equation*}\n",
    "T_p^{i+1} = (I-\\frac{\\delta t}{2} A(p))^{-1} [ (I+\\frac{\\delta t}{2} A(p)) T_p^i + \\frac{\\delta t}{2} B(p) (U^{i+1}+U^i) ]\n",
    "\\end{equation*}"
   ]
  },
  {
   "cell_type": "markdown",
   "metadata": {},
   "source": [
    "## Optimization using a gradient descent and the Euler implicit scheme"
   ]
  },
  {
   "cell_type": "markdown",
   "metadata": {},
   "source": [
    "we have to find the minimum of the cost function :\n",
    "\n",
    "$f(p) = \\frac{1}{2}  \\sum_{i=1}^N (T_p^i[0] - \\theta^i[1])^2$\n",
    "\n",
    "its gradient is :\n",
    "\n",
    "$\\nabla f = \\begin{vmatrix}\n",
    "\\frac{\\delta f}{\\delta p_0} \\\\\n",
    "\\frac{\\delta f}{\\delta p_1} \\\\\n",
    "\\frac{\\delta f}{\\delta p_2} \\\\\n",
    "\\frac{\\delta f}{\\delta p_3} \\\\\n",
    "\\frac{\\delta f}{\\delta p_4} \\\\\n",
    "\\end{vmatrix}\n",
    "= \\begin{vmatrix}\n",
    "\\frac{\\delta f}{\\delta c_{res}} \\\\\n",
    "\\frac{\\delta f}{\\delta c_s} \\\\\n",
    "\\frac{\\delta f}{\\delta r_i} \\\\\n",
    "\\frac{\\delta f}{\\delta r_0} \\\\\n",
    "\\frac{\\delta f}{\\delta r_f} \\\\\n",
    "\\end{vmatrix}$\n",
    "\n",
    "with :\n",
    "\n",
    "$\\frac{\\delta f}{\\delta p_j} = \\sum_{i=1}^N \\frac{\\delta T_p^i[0]}{\\delta p_j} (T_p^i[0] - \\theta^i[1])$\n",
    "\n",
    "\n",
    "Let's call :\n",
    "\n",
    "$z_j(t) = \\frac{\\delta T_p}{\\delta p_j}$"
   ]
  },
  {
   "cell_type": "markdown",
   "metadata": {},
   "source": [
    "By re-using the Euler implicit discretisation scheme, we have :\n",
    "\n",
    "$\\frac{\\delta T_p^{i+1} - \\delta T_p^{i}}{\\delta t} = A(p) \\delta T_p^{i+1} + \\delta A(p) T_p^{i+1} + \\delta B(p) U^i$\n",
    "\n",
    "**which leads to the second discretisation scheme to code :**"
   ]
  },
  {
   "cell_type": "markdown",
   "metadata": {},
   "source": [
    "\\begin{equation*}\n",
    "z_j^{i+1} = (I - \\delta t A)^{-1} (z_j^i + \\delta t \\frac{\\delta A}{\\delta p_j} T_p^{i+1} + \\delta t \\frac{\\delta B(p)}{\\delta p_j} U^i)\n",
    "\\end{equation*}"
   ]
  },
  {
   "cell_type": "markdown",
   "metadata": {},
   "source": [
    "After this second scheme, we can estimate the gradients of the functional to minimize :"
   ]
  },
  {
   "cell_type": "markdown",
   "metadata": {},
   "source": [
    "\\begin{equation*}\n",
    "\\frac{\\delta f}{\\delta p_j} = \\sum_{i=1}^N z_j^i[0] (T_p^i[0] - \\theta^i[1])\n",
    "\\end{equation*}"
   ]
  },
  {
   "cell_type": "markdown",
   "metadata": {},
   "source": [
    "## Initial guess for the parameters"
   ]
  },
  {
   "cell_type": "markdown",
   "metadata": {},
   "source": [
    "An empiric method for determining the initial thermal capacities is to appreciate the inertia of the building and its volume\n",
    "\n",
    "According to regulatory approaches, we can define 5 classes of inertia :\n",
    "   "
   ]
  },
  {
   "cell_type": "markdown",
   "metadata": {},
   "source": [
    "\\begin{array}{ l || c || c }\n",
    "inertia ~ type & \\frac{KJ}{K m^2} & exchange ~ surf. ~ (\\frac{m^2}{m^2}) \\\\ \n",
    "\\hline\n",
    "very ~ light & 80 & 2.5 \\\\\n",
    "light & 110 & 2.5 \\\\\n",
    "medium & 165 & 2.5 \\\\\n",
    "hard & 260 & 3 \\\\\n",
    "very ~ hard & 370 & 3.5 \\\\\n",
    "\\end{array}\n"
   ]
  },
  {
   "cell_type": "markdown",
   "metadata": {},
   "source": [
    "In our use case (individual public housing estates from the 80s), the volume is 300 m3 and the inertia is medium"
   ]
  },
  {
   "cell_type": "code",
   "execution_count": 19,
   "metadata": {},
   "outputs": [
    {
     "name": "stdout",
     "output_type": "stream",
     "text": [
      "cres is 3.674640e+05\n",
      "cs is 8.951250e+07\n"
     ]
    }
   ],
   "source": [
    "# building volume in m3\n",
    "vb=300\n",
    "# air bulk density in kg/m3\n",
    "rho_air=1.22\n",
    "# air heat capacity in J/(kg.K)\n",
    "c_air=1004\n",
    "# heated floor area in m2\n",
    "floor=80\n",
    "# atbat in m2 - off-floor loss area\n",
    "atbat=217\n",
    "# inertia in J/(K.m2)\n",
    "inertia = 165000\n",
    "\n",
    "# res in J/K\n",
    "cres=c_air*rho_air*vb\n",
    "# cs in J/K\n",
    "cs=inertia*2.5*atbat\n",
    "\n",
    "print(\"cres is {}\".format(\"{:e}\".format(cres)))\n",
    "print(\"cs is {}\".format(\"{:e}\".format(cs)))"
   ]
  },
  {
   "cell_type": "markdown",
   "metadata": {},
   "source": [
    "thermal resistances are generally small, something like 1e-2 "
   ]
  },
  {
   "cell_type": "code",
   "execution_count": null,
   "metadata": {},
   "outputs": [],
   "source": [
    "ri=1e-2\n",
    "r0=1e-2\n",
    "rf=1e-2"
   ]
  }
 ],
 "metadata": {
  "kernelspec": {
   "display_name": "Python 3",
   "language": "python",
   "name": "python3"
  },
  "language_info": {
   "codemirror_mode": {
    "name": "ipython",
    "version": 3
   },
   "file_extension": ".py",
   "mimetype": "text/x-python",
   "name": "python",
   "nbconvert_exporter": "python",
   "pygments_lexer": "ipython3",
   "version": "3.7.7"
  },
  "latex_metadata": {
   "affiliation": "Dromotherm@Cerema",
   "author": "Alexandre CUER",
   "title": "indoor temperature prediction - using real datas to fit a RC analog model"
  }
 },
 "nbformat": 4,
 "nbformat_minor": 4
}
