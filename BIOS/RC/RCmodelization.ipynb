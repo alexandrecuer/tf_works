{
 "cells": [
  {
   "cell_type": "markdown",
   "metadata": {},
   "source": [
    "# indoor temperature forecasting with an RC model"
   ]
  },
  {
   "cell_type": "markdown",
   "metadata": {},
   "source": [
    "\\begin{equation*}\n",
    "f(p) = \\frac{1}{2}  \\sum_{i=1}^N (T_p^i[0] - \\theta^i[1])^2\n",
    "\\end{equation*}"
   ]
  },
  {
   "cell_type": "markdown",
   "metadata": {},
   "source": [
    "\\begin{equation*}\n",
    "A =  \\begin{vmatrix}\n",
    "-\\frac{1}{c_{res}} (\\frac{1}{r_i}+\\frac{1}{r_f}) & \\frac{1}{c_{res} r_i} \\\\\n",
    "\\frac{1}{c_s r_i} &  - \\frac{1}{c_s} (\\frac{1}{r_i}+\\frac{1}{r_0}) \\\\\n",
    "\\end{vmatrix}\n",
    "\\end{equation*}\n"
   ]
  },
  {
   "cell_type": "markdown",
   "metadata": {},
   "source": [
    "\\begin{equation*}\n",
    "\\frac{dA}{dc_{res}} =  \\begin{vmatrix}\n",
    "\\frac{1}{c_{res}^2} (\\frac{1}{r_i}+\\frac{1}{r_f}) & - \\frac{1}{c_{res}^2 r_i} \\\\\n",
    "0 &  0 \\\\\n",
    "\\end{vmatrix}\n",
    "\\end{equation*}"
   ]
  },
  {
   "cell_type": "markdown",
   "metadata": {},
   "source": [
    "\\begin{equation*}\n",
    "\\frac{dA}{dc_s} =  \\begin{vmatrix}\n",
    "0 & 0 \\\\\n",
    "- \\frac{1}{c_s^2 r_i} &  \\frac{1}{c_s^2} (\\frac{1}{r_i}+\\frac{1}{r_0}) \\\\\n",
    "\\end{vmatrix}\n",
    "\\end{equation*}"
   ]
  },
  {
   "cell_type": "markdown",
   "metadata": {},
   "source": [
    "\\begin{equation*}\n",
    "\\frac{dA}{dr_i} =  \\begin{vmatrix}\n",
    "\\frac{1}{c_{res} r_i^2} & - \\frac{1}{c_{res} r_i^2} \\\\\n",
    "- \\frac{1}{c_s r_i^2} &  \\frac{1}{c_s r_i^2} \\\\\n",
    "\\end{vmatrix}\n",
    "\\end{equation*}"
   ]
  },
  {
   "cell_type": "markdown",
   "metadata": {},
   "source": [
    "\\begin{equation*}\n",
    "\\frac{dA}{dr_0} =  \\begin{vmatrix}\n",
    "0 & 0 \\\\\n",
    "0 &  \\frac{1}{c_s r_0^2}) \\\\\n",
    "\\end{vmatrix}\n",
    "\\end{equation*}"
   ]
  },
  {
   "cell_type": "markdown",
   "metadata": {},
   "source": [
    "\\begin{equation*}\n",
    "\\frac{dA}{dr_f} =  \\begin{vmatrix}\n",
    "\\frac{1}{c_{res} r_f^2} & 0 \\\\\n",
    "0 &  0 \\\\\n",
    "\\end{vmatrix}\n",
    "\\end{equation*}"
   ]
  },
  {
   "cell_type": "markdown",
   "metadata": {},
   "source": [
    "with \\begin{equation*}\n",
    "p = [c_{res}, c_s, r_i, r_0, r_f]\n",
    "\\end{equation*}"
   ]
  },
  {
   "cell_type": "markdown",
   "metadata": {},
   "source": [
    "we have :\n",
    "\\begin{equation*}\n",
    "A =  \\begin{vmatrix}\n",
    "-\\frac{1}{p[0]} (\\frac{1}{p[2]}+\\frac{1}{p[4]}) & \\frac{1}{p[0] p[2]} \\\\\n",
    "\\frac{1}{p[1] p[2]} &  - \\frac{1}{p[1]} (\\frac{1}{p[2]}+\\frac{1}{p[3]}) \\\\\n",
    "\\end{vmatrix}\n",
    "\\end{equation*}"
   ]
  },
  {
   "cell_type": "markdown",
   "metadata": {},
   "source": [
    "\\begin{equation*}\n",
    "\\frac{dA}{dc_{res}} =  \\begin{vmatrix}\n",
    "\\frac{1}{p[0]^2} (\\frac{1}{p[2]}+\\frac{1}{p[4]}) & - \\frac{1}{p[0]^2 p[2]} \\\\\n",
    "0 &  0 \\\\\n",
    "\\end{vmatrix}\n",
    "\\end{equation*}"
   ]
  },
  {
   "cell_type": "markdown",
   "metadata": {},
   "source": [
    "\\begin{equation*}\n",
    "\\frac{dA}{dr_i} =  \\begin{vmatrix}\n",
    "\\frac{1}{p[0] p[2]^2} & - \\frac{1}{p[0] p[2]^2} \\\\\n",
    "- \\frac{1}{p[1] p[2]^2} &  \\frac{1}{p[1] p[2]^2} \\\\\n",
    "\\end{vmatrix}\n",
    "\\end{equation*}"
   ]
  },
  {
   "cell_type": "markdown",
   "metadata": {},
   "source": [
    "\\begin{equation*}\n",
    "\\frac{dA}{dr_0} =  \\begin{vmatrix}\n",
    "0 & 0 \\\\\n",
    "0 &  \\frac{1}{p[1] p[3]^2} \\\\\n",
    "\\end{vmatrix}\n",
    "\\end{equation*}"
   ]
  },
  {
   "cell_type": "markdown",
   "metadata": {},
   "source": [
    "\\begin{equation*}\n",
    "\\frac{dA}{dr_f} =  \\begin{vmatrix}\n",
    "\\frac{1}{p[0] p[4]^2} & 0 \\\\\n",
    "0 &  0 \\\\\n",
    "\\end{vmatrix}\n",
    "\\end{equation*}"
   ]
  },
  {
   "cell_type": "markdown",
   "metadata": {},
   "source": [
    "\\begin{equation*}\n",
    "G =  \\begin{vmatrix}\n",
    "\\frac{Q_{res}}{c_{res}} + \\frac{T_{ext}}{c_{res} r_f} \\\\\n",
    "\\frac{Q_s}{c_s} + \\frac{T_{ext}}{c_s r_0} \\\\\n",
    "\\end{vmatrix}\n",
    "\\end{equation*}"
   ]
  },
  {
   "cell_type": "markdown",
   "metadata": {},
   "source": [
    "\\begin{equation*}\n",
    "\\frac{dG}{dc_{res}} =  \\begin{vmatrix}\n",
    "- \\frac{1}{c_{res}^2} (Q_{res} + \\frac{T_{ext}}{r_f})  \\\\\n",
    "0 \\\\\n",
    "\\end{vmatrix}\n",
    "\\end{equation*}"
   ]
  },
  {
   "cell_type": "markdown",
   "metadata": {},
   "source": [
    "\\begin{equation*}\n",
    "\\frac{dG}{dc_s} =  \\begin{vmatrix}\n",
    "0 \\\\\n",
    "- \\frac{1}{c_s^2} (Q_s + \\frac{T_{ext}}{r_0}) \\\\\n",
    "\\end{vmatrix}\n",
    "\\end{equation*}"
   ]
  },
  {
   "cell_type": "markdown",
   "metadata": {},
   "source": [
    "\\begin{equation*}\n",
    "\\frac{dG}{dr_i} =  \\begin{vmatrix}\n",
    "0 \\\\\n",
    "0 \\\\\n",
    "\\end{vmatrix}\n",
    "\\end{equation*}"
   ]
  },
  {
   "cell_type": "markdown",
   "metadata": {},
   "source": [
    "\\begin{equation*}\n",
    "\\frac{dG}{dr_0} =  \\begin{vmatrix}\n",
    "0 \\\\\n",
    "- \\frac{T_{ext}}{c_s r_0^2} \\\\\n",
    "\\end{vmatrix}\n",
    "\\end{equation*}"
   ]
  },
  {
   "cell_type": "markdown",
   "metadata": {},
   "source": [
    "\\begin{equation*}\n",
    "\\frac{dG}{dr_f} =  \\begin{vmatrix}\n",
    "- \\frac{T_{ext}}{c_{res} r_f^2} \\\\\n",
    "0 \\\\\n",
    "\\end{vmatrix}\n",
    "\\end{equation*}"
   ]
  },
  {
   "cell_type": "markdown",
   "metadata": {},
   "source": [
    "Let's introduce the ground truths tensor :\n",
    "\\begin{equation*} \n",
    "\\theta = [ T_{ext}, T_{int}, Q_{res}, Q_{s}]\n",
    "\\end{equation*} \n",
    "All temperatures being expressed in °C and all powers in W"
   ]
  },
  {
   "cell_type": "markdown",
   "metadata": {},
   "source": [
    "\\begin{equation*}\n",
    "G =  \\begin{vmatrix}\n",
    "\\frac{\\theta^i[2]}{p[0]} + \\frac{\\theta^i[0]}{p[0] p[4]} \\\\\n",
    "\\frac{\\theta^i[3]}{p[1]} + \\frac{\\theta^i[0]}{p[1] p[3]} \\\\\n",
    "\\end{vmatrix}\n",
    "\\end{equation*}"
   ]
  },
  {
   "cell_type": "markdown",
   "metadata": {},
   "source": [
    "\\begin{equation*}\n",
    "\\frac{dG}{dc_{res}} =  \\begin{vmatrix}\n",
    "- \\frac{1}{p[0]^2} (\\theta^i[2] + \\frac{\\theta^i[0]}{p[4]})  \\\\\n",
    "0 \\\\\n",
    "\\end{vmatrix}\n",
    "\\end{equation*}"
   ]
  },
  {
   "cell_type": "markdown",
   "metadata": {},
   "source": [
    "\\begin{equation*}\n",
    "\\frac{dG}{dc_s} =  \\begin{vmatrix}\n",
    "0 \\\\\n",
    "- \\frac{1}{p[1]^2} (\\theta^i[3] + \\frac{\\theta^i[0]}{p[3]}) \\\\\n",
    "\\end{vmatrix}\n",
    "\\end{equation*}"
   ]
  },
  {
   "cell_type": "markdown",
   "metadata": {},
   "source": [
    "\\begin{equation*}\n",
    "\\frac{dG}{dr_0} =  \\begin{vmatrix}\n",
    "0 \\\\\n",
    "- \\frac{\\theta^i[0]}{p[1] p[3]^2} \\\\\n",
    "\\end{vmatrix}\n",
    "\\end{equation*}"
   ]
  },
  {
   "cell_type": "markdown",
   "metadata": {},
   "source": [
    "\\begin{equation*}\n",
    "\\frac{dG}{dr_f} =  \\begin{vmatrix}\n",
    "- \\frac{\\theta^i[0]}{p[0] p[4]^2} \\\\\n",
    "0 \\\\\n",
    "\\end{vmatrix}\n",
    "\\end{equation*}"
   ]
  },
  {
   "cell_type": "markdown",
   "metadata": {},
   "source": [
    "With $T_i(t)$ the simulated indoor temperature and $T_s(t)$ the simulated envelope temperature, we define : \n",
    "\\begin{equation*}\n",
    "T_p(t) = \\begin{vmatrix}\n",
    "T_i(t) \\\\\n",
    "T_s(t) \\\\\n",
    "\\end{vmatrix}\n",
    "\\end{equation*}\n",
    "the equation to solve is : \n",
    "\\begin{equation*}\n",
    "\\frac{dT_p(t)}{dt} =  A T_p(t) + G(t,p)\n",
    "\\end{equation*}"
   ]
  },
  {
   "cell_type": "code",
   "execution_count": 33,
   "metadata": {},
   "outputs": [],
   "source": [
    "cres=9e+6\n",
    "cs=9e+7\n",
    "ri=1e-2\n",
    "r0=1e-2\n",
    "rf=1e-2"
   ]
  },
  {
   "cell_type": "code",
   "execution_count": null,
   "metadata": {},
   "outputs": [],
   "source": []
  }
 ],
 "metadata": {
  "kernelspec": {
   "display_name": "Python 3",
   "language": "python",
   "name": "python3"
  },
  "language_info": {
   "codemirror_mode": {
    "name": "ipython",
    "version": 3
   },
   "file_extension": ".py",
   "mimetype": "text/x-python",
   "name": "python",
   "nbconvert_exporter": "python",
   "pygments_lexer": "ipython3",
   "version": "3.6.9"
  },
  "latex_metadata": {
   "affiliation": "Dromotherm@Cerema",
   "author": "Alexandre CUER",
   "title": "indoor temperature prediction - using real datas to fit a RC analog model"
  }
 },
 "nbformat": 4,
 "nbformat_minor": 4
}
